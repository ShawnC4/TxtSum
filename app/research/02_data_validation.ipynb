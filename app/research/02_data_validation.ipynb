{
 "cells": [
  {
   "cell_type": "code",
   "execution_count": 1,
   "metadata": {},
   "outputs": [],
   "source": [
    "import os"
   ]
  },
  {
   "cell_type": "code",
   "execution_count": 2,
   "metadata": {},
   "outputs": [
    {
     "data": {
      "text/plain": [
       "'c:\\\\Users\\\\Shawn\\\\Desktop\\\\TextSummarizer\\\\app\\\\research'"
      ]
     },
     "execution_count": 2,
     "metadata": {},
     "output_type": "execute_result"
    }
   ],
   "source": [
    "%pwd"
   ]
  },
  {
   "cell_type": "code",
   "execution_count": 3,
   "metadata": {},
   "outputs": [],
   "source": [
    "os.chdir(\"../../\")"
   ]
  },
  {
   "cell_type": "code",
   "execution_count": 4,
   "metadata": {},
   "outputs": [],
   "source": [
    "from dataclasses import dataclass\n",
    "from pathlib import Path\n",
    "\n",
    "@dataclass(frozen=True)\n",
    "class DataValidationConfig:\n",
    "    root_dir: Path\n",
    "    STATUS_FILE: str\n",
    "    ALL_REQUIRED_FILES: list"
   ]
  },
  {
   "cell_type": "code",
   "execution_count": 5,
   "metadata": {},
   "outputs": [],
   "source": [
    "from src.constants import *\n",
    "from src.utils.common import read_yaml, create_directories"
   ]
  },
  {
   "cell_type": "code",
   "execution_count": 6,
   "metadata": {},
   "outputs": [],
   "source": [
    "class ConfigurationManager:\n",
    "    def __init__(self,\n",
    "                 config_filepath: Path = CONFIG_FILE_PATH,\n",
    "                 params_filepath: Path = PARAMS_FILE_PATH):\n",
    "        \n",
    "        self.config = read_yaml(config_filepath)\n",
    "        self.params = read_yaml(params_filepath)\n",
    "\n",
    "        create_directories([self.config.artifacts_root])\n",
    "\n",
    "    \n",
    "    def get_data_validation_config(self) -> DataValidationConfig:\n",
    "        config = self.config.data_validation\n",
    "\n",
    "        create_directories([config.root_dir])\n",
    "\n",
    "        data_validation_config = DataValidationConfig(\n",
    "            root_dir = config.root_dir,\n",
    "            STATUS_FILE = config.STATUS_FILE,\n",
    "            ALL_REQUIRED_FILES = config.ALL_REQUIRED_FILES\n",
    "        )\n",
    "\n",
    "        return data_validation_config"
   ]
  },
  {
   "cell_type": "code",
   "execution_count": 7,
   "metadata": {},
   "outputs": [],
   "source": [
    "import os\n",
    "from src.logging import logger"
   ]
  },
  {
   "cell_type": "code",
   "execution_count": 37,
   "metadata": {},
   "outputs": [],
   "source": [
    "class DataValidation:\n",
    "    def __init__(self, config: DataValidationConfig):\n",
    "        self.config = config\n",
    "\n",
    "    \n",
    "    def validate_all_files_exist(self):\n",
    "        try:\n",
    "            validation_status = True\n",
    "            all_files = os.listdir(os.path.join(\"app\", \"artifacts\", \"data_ingestion\", \"samsum_dataset\"))\n",
    "            missing_files = []\n",
    "            invalid_files = []\n",
    "\n",
    "            print(self.config)\n",
    "            for required_file in self.config.ALL_REQUIRED_FILES:\n",
    "                if required_file not in all_files:\n",
    "                    validation_status = False\n",
    "                    missing_files.append(required_file)\n",
    "                    logger.error(f\"{required_file} exists: Failed\")\n",
    "                else:\n",
    "                    logger.info(f\"{required_file} exists: Passed\")\n",
    "                    file_path = os.path.join(\"app\", \"artifacts\", \"data_ingestion\", \"samsum_dataset\", required_file)\n",
    "                    # Check if the required file is a directory\n",
    "                    if os.path.isdir(file_path):\n",
    "                        # Check for .arrow files within the directory\n",
    "                        arrow_files = [f for f in os.listdir(file_path) if f.endswith('.arrow')]\n",
    "                        if not arrow_files:\n",
    "                            validation_status = False\n",
    "                            invalid_files.append(f\"{required_file} (no .arrow files found)\")\n",
    "                            logger.error(f\".arrow files exists in {required_file}: Failed\")\n",
    "                        else:\n",
    "                            logger.info(f\".arrow files exists in {required_file}: Passed\")\n",
    "                            for arrow_file in arrow_files:\n",
    "                                arrow_file_path = os.path.join(file_path, arrow_file)\n",
    "                                # Check file size (example: file should not be empty)\n",
    "                                if os.path.getsize(arrow_file_path) == 0:\n",
    "                                    validation_status = False\n",
    "                                    invalid_files.append(f\"{arrow_file} (empty file)\")\n",
    "                                    logger.error(f\"arrow file not empty: Failed\")\n",
    "                                else:\n",
    "                                    logger.info(f\"arrow file not empty: Passed\")\n",
    "                    else:\n",
    "                        # Check file size (example: file should not be empty)\n",
    "                        if os.path.getsize(file_path) == 0:\n",
    "                            validation_status = False\n",
    "                            invalid_files.append(f\"{required_file} (empty file)\")\n",
    "                            \n",
    "\n",
    "            # Write validation status to the status file\n",
    "            with open(self.config.STATUS_FILE, \"w\") as f:\n",
    "                if validation_status:\n",
    "                    f.write(\"Validation Status: True\\n\")\n",
    "                else:\n",
    "                    f.write(f\"Validation Status: {validation_status}\\n\")\n",
    "                    if missing_files:\n",
    "                        f.write(f\"Missing Files: {', '.join(missing_files)}\\n\")\n",
    "                    if invalid_files:\n",
    "                        f.write(f\"Invalid Files: {', '.join(invalid_files)}\\n\")\n",
    "\n",
    "            return validation_status\n",
    "        except Exception as e:\n",
    "            raise e"
   ]
  },
  {
   "cell_type": "code",
   "execution_count": 38,
   "metadata": {},
   "outputs": [
    {
     "name": "stdout",
     "output_type": "stream",
     "text": [
      "[2024-12-24 18:42:30,584: INFO: common: Reading C:\\Users\\Shawn\\Desktop\\TextSummarizer\\app\\config\\config.yaml file]\n",
      "[2024-12-24 18:42:30,587: INFO: common: Reading C:\\Users\\Shawn\\Desktop\\TextSummarizer\\app\\params.yaml file]\n",
      "[2024-12-24 18:42:30,589: INFO: common: Directory created: app/artifacts]\n",
      "[2024-12-24 18:42:30,591: INFO: common: Directory created: app/artifacts/data_validation]\n",
      "DataValidationConfig(root_dir='app/artifacts/data_validation', STATUS_FILE='app/artifacts/data_validation/status.txt', ALL_REQUIRED_FILES=BoxList(['train', 'test', 'validation']))\n",
      "[2024-12-24 18:42:30,593: INFO: 554312349: train exists: Passed]\n",
      "[2024-12-24 18:42:30,594: INFO: 554312349: .arrow files exists in train: Passed]\n",
      "[2024-12-24 18:42:30,596: INFO: 554312349: arrow file not empty: Passed]\n",
      "[2024-12-24 18:42:30,598: INFO: 554312349: test exists: Passed]\n",
      "[2024-12-24 18:42:30,600: INFO: 554312349: .arrow files exists in test: Passed]\n",
      "[2024-12-24 18:42:30,602: INFO: 554312349: arrow file not empty: Passed]\n",
      "[2024-12-24 18:42:30,603: INFO: 554312349: validation exists: Passed]\n",
      "[2024-12-24 18:42:30,605: INFO: 554312349: .arrow files exists in validation: Passed]\n",
      "[2024-12-24 18:42:30,607: INFO: 554312349: arrow file not empty: Passed]\n"
     ]
    }
   ],
   "source": [
    "try:\n",
    "    config_manager = ConfigurationManager()\n",
    "    data_validation_config = config_manager.get_data_validation_config()\n",
    "    data_validation = DataValidation(config=data_validation_config)\n",
    "    data_validation.validate_all_files_exist()\n",
    "except Exception as e:\n",
    "    raise e"
   ]
  },
  {
   "cell_type": "code",
   "execution_count": null,
   "metadata": {},
   "outputs": [],
   "source": []
  },
  {
   "cell_type": "code",
   "execution_count": null,
   "metadata": {},
   "outputs": [],
   "source": []
  }
 ],
 "metadata": {
  "kernelspec": {
   "display_name": "myenv",
   "language": "python",
   "name": "python3"
  },
  "language_info": {
   "codemirror_mode": {
    "name": "ipython",
    "version": 3
   },
   "file_extension": ".py",
   "mimetype": "text/x-python",
   "name": "python",
   "nbconvert_exporter": "python",
   "pygments_lexer": "ipython3",
   "version": "3.12.4"
  }
 },
 "nbformat": 4,
 "nbformat_minor": 2
}
